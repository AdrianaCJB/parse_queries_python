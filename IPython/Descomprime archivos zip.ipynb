{
 "cells": [
  {
   "cell_type": "code",
   "execution_count": 68,
   "metadata": {},
   "outputs": [
    {
     "data": {
      "text/plain": [
       "['A', 'Mkt_Crm_Analytics_Tb.MP_PROSP_RENTA_ESTIMADA_HIST']"
      ]
     },
     "execution_count": 68,
     "metadata": {},
     "output_type": "execute_result"
    }
   ],
   "source": [
    "import sql_metadata\n",
    "\n",
    "query = \"\"\"UPDATE A\n",
    "FROM Mkt_Crm_Analytics_Tb.MP_PROSP_RENTA_ESTIMADA_HIST A, BCIMKT.MP_CLIENTE_RENTA_ESTIMADA_BCI B\n",
    "SET ESTIMACION_RENTA_CLIENTE=B.Rta_EstBCI_Final,\n",
    "  ESTRTACLIENTEBCI_MODELO=B.Estima_mediana_90 \n",
    "WHERE A.RUT=B.RUT AND A.FECHA_REF=B.FECHA_REF; \"\"\"\n",
    "\n",
    "sql_metadata.get_query_tables(query)"
   ]
  },
  {
   "cell_type": "code",
   "execution_count": 80,
   "metadata": {},
   "outputs": [
    {
     "data": {
      "text/plain": [
       "['TGT',\n",
       " 'ARMCORE.CR_EXECUTION_LIST',\n",
       " 'ARMCORE.CR_JOB',\n",
       " 'ARMCUST.CRM_BATCH_CAMPAIGN',\n",
       " 'ARMCORE.CM_COMMUNICATION']"
      ]
     },
     "execution_count": 80,
     "metadata": {},
     "output_type": "execute_result"
    }
   ],
   "source": [
    "import sql_metadata\n",
    "\n",
    "query = \"\"\"UPDATE TGT\n",
    "FROM   \n",
    "        ARMCORE.CR_EXECUTION_LIST TGT\n",
    "\t,(SELECT CJ.Job_Id , COMM.Communication_Id\n",
    "\t FROM   ARMCORE.CR_JOB CJ\n",
    "\t        INNER JOIN ARMCUST.CRM_BATCH_CAMPAIGN CBC\n",
    "\t\t            ON CJ.Description = CBC.Description\n",
    "\t\t    INNER JOIN ( SELECT Communication_Id, NAME\n",
    "                         FROM   ARMCORE.CM_COMMUNICATION\n",
    "                         WHERE  Status_Cd NOT IN (0,3)\n",
    "                         QUALIFY 1 = Row_Number() Over(PARTITION BY NAME ORDER BY Update_dttm DESC)\n",
    "                       ) COMM \n",
    "                    ON CJ.Description = COMM.NAME\n",
    "\tWHERE CBC.Batch_Id = PARAMID\n",
    "\tAND CJ.Next_Scheduled_Run_Dttm (DATE) = '1900-01-01'\n",
    "\tAND Trim(CJ.Job_Id) >= '2'\n",
    "\tAND Trim(CJ.Job_Id) < '3') SRC\n",
    "SET Component_Id = SRC.Communication_Id \t\n",
    "WHERE TGT.Job_Id = SRC.Job_Id; \"\"\"\n",
    "\n",
    "sql_metadata.get_query_tables(query)"
   ]
  },
  {
   "cell_type": "code",
   "execution_count": 82,
   "metadata": {},
   "outputs": [
    {
     "data": {
      "text/plain": [
       "['ARMEDW.Ft_Venta']"
      ]
     },
     "execution_count": 82,
     "metadata": {},
     "output_type": "execute_result"
    }
   ],
   "source": [
    "import sql_metadata\n",
    "\n",
    "query = \"\"\"  DELETE V\n",
    "\n",
    "FROM   ARMEDW.Ft_Venta           V,\n",
    "       EDW_TEMP.Ft_Vta_Aum_Pyme_Temp_Vta T\n",
    "\n",
    "WHERE  V.Campaign_Id     = T.Campaign_Id\n",
    "AND    V.Campaign_Run_Id = T.Campaign_Run_Id\n",
    ";\"\"\"\n",
    "\n",
    "sql_metadata.get_query_tables(query)"
   ]
  },
  {
   "cell_type": "code",
   "execution_count": 76,
   "metadata": {},
   "outputs": [
    {
     "name": "stdout",
     "output_type": "stream",
     "text": [
      "LEFT JOIN\n"
     ]
    }
   ],
   "source": [
    "print(\" \".join('LEFT  JOIN'.split()))"
   ]
  },
  {
   "cell_type": "code",
   "execution_count": null,
   "metadata": {},
   "outputs": [],
   "source": []
  },
  {
   "cell_type": "code",
   "execution_count": null,
   "metadata": {},
   "outputs": [],
   "source": [
    "import os\n",
    "folder_list = [name for name in os.listdir('.') if os.path.isdir(name)]\n",
    "print(folder_list)"
   ]
  },
  {
   "cell_type": "code",
   "execution_count": null,
   "metadata": {},
   "outputs": [],
   "source": [
    "from pip._internal.operations.freeze import freeze\n",
    "\n",
    "print([package for package in freeze()])"
   ]
  },
  {
   "cell_type": "code",
   "execution_count": null,
   "metadata": {},
   "outputs": [],
   "source": [
    "from shutil import unpack_archive\n",
    "unpack_archive('Input_Analitico.zip', '.')"
   ]
  },
  {
   "cell_type": "code",
   "execution_count": null,
   "metadata": {},
   "outputs": [],
   "source": []
  },
  {
   "cell_type": "code",
   "execution_count": null,
   "metadata": {},
   "outputs": [],
   "source": []
  },
  {
   "cell_type": "code",
   "execution_count": null,
   "metadata": {},
   "outputs": [],
   "source": []
  },
  {
   "cell_type": "code",
   "execution_count": null,
   "metadata": {},
   "outputs": [],
   "source": [
    "import pandas as pd\n",
    "\n",
    "#initialize a dataframe\n",
    "columns = ['A']\n",
    "df = pd.DataFrame(columns=columns)\n",
    "\n",
    "isempty = df.empty\n",
    "print('Is the DataFrame empty :', isempty)\n",
    "df\n",
    "\n",
    "if (df.empty == True):\n",
    "    print(\"bien\")"
   ]
  },
  {
   "cell_type": "code",
   "execution_count": null,
   "metadata": {},
   "outputs": [],
   "source": []
  },
  {
   "cell_type": "code",
   "execution_count": null,
   "metadata": {},
   "outputs": [],
   "source": []
  },
  {
   "cell_type": "code",
   "execution_count": null,
   "metadata": {},
   "outputs": [],
   "source": []
  },
  {
   "cell_type": "code",
   "execution_count": 63,
   "metadata": {},
   "outputs": [
    {
     "name": "stdout",
     "output_type": "stream",
     "text": [
      "['.ipynb_checkpoints']\n"
     ]
    }
   ],
   "source": [
    "import os\n",
    "folder_list = [name for name in os.listdir('./Input_Analitico') if os.path.isdir(name)]\n",
    "print(folder_list)"
   ]
  },
  {
   "cell_type": "code",
   "execution_count": null,
   "metadata": {},
   "outputs": [],
   "source": []
  },
  {
   "cell_type": "code",
   "execution_count": null,
   "metadata": {},
   "outputs": [],
   "source": []
  },
  {
   "cell_type": "code",
   "execution_count": null,
   "metadata": {},
   "outputs": [],
   "source": []
  },
  {
   "cell_type": "code",
   "execution_count": null,
   "metadata": {},
   "outputs": [],
   "source": [
    "def folder_contains_name(folder_dir):\n",
    "    if (folder_dir.find('Bteq') != -1 or folder_dir.find('BTEQ') != -1):\n",
    "        return 'Bteq'\n",
    "    if (folder_dir.find('Vistas') != -1):\n",
    "        return 'Vistas'\n",
    "    if (folder_dir.find('StoredProcedures') != -1):\n",
    "        return 'StoredProcedures'"
   ]
  },
  {
   "cell_type": "code",
   "execution_count": 67,
   "metadata": {},
   "outputs": [
    {
     "name": "stdout",
     "output_type": "stream",
     "text": [
      "./Bteq\n",
      "./Vistas\n",
      "./StoredProcedures\n",
      "./Bteq/.ipynb_checkpoints\n",
      "./Input_Analitico/Personas/20_Campannas/217_Masivo_Masivo_Tablon_Analitico_BCI/BTEQs\n",
      "./Input_Analitico/Personas/20_Campannas/213_Masivo_Mensual_Heuristica_SBIF/BTEQs\n",
      "./Input_Analitico/Personas/20_Campannas/218_Masivo_Saldo_Inversiones/BTEQ\n",
      "./Input_Analitico/Personas/20_Campannas/202_Masivo_Margenes_Dap/BTEQ\n",
      "./Input_Analitico/Personas/20_Campannas/215_Masivo_Mensual_Social_Networks/BTEQs\n",
      "./Input_Analitico/Personas/20_Campannas/216_Evaluacion_Carga_DMA/BTEQs\n",
      "./Input_Analitico/Personas/00_CRM_Diario/052_Input_CRM_Potencial_Inversiones/BTEQ\n",
      "./Input_Analitico/Personas/00_CRM_Diario/053_Input_CRM_Recarga_BCI_FINANCIAL/BTEQs\n",
      "./Input_Analitico/Personas/00_CRM_Diario/023_Oportunidades/BTEQs_3\n",
      "./Input_Analitico/Personas/00_CRM_Diario/023_Oportunidades/BTEQs_2\n",
      "./Input_Analitico/Personas/00_CRM_Diario/023_Oportunidades/BTEQs_1\n",
      "./Input_Analitico/Personas/00_CRM_Diario/059_Guardar_Control_Dotacion/BTEQ\n",
      "./Input_Analitico/Personas/00_CRM_Diario/032_Input_CRM_Updatear/BTEQs\n",
      "./Input_Analitico/Personas/00_CRM_Diario/011_Input_CRM_Consolida_Gestiones/BTEQs\n",
      "./Input_Analitico/Personas/00_CRM_Diario/014_Input_CRM_Saldo_inversiones/BTEQs\n",
      "./Input_Analitico/Personas/00_CRM_Diario/055_Inmovilizados_CPR_CCT/BTEQs\n",
      "./Input_Analitico/Personas/00_CRM_Diario/035_Input_CRM_Dummy/BTEQs\n",
      "./Input_Analitico/Personas/00_CRM_Diario/024_Input_CRM_Journey_AUM/BTEQs\n",
      "./Input_Analitico/Personas/00_CRM_Diario/012_Input_CRM_Productos_Clientes/BTEQs\n",
      "./Input_Analitico/Personas/00_CRM_Diario/061_Estado_Clave_Nuevos_CCT/BTEQs\n",
      "./Input_Analitico/Personas/00_CRM_Diario/000_STG/BTEQs\n",
      "./Input_Analitico/Personas/00_CRM_Diario/056_Segmentacion_Retencion/BTEQs\n",
      "./Input_Analitico/Personas/00_CRM_Diario/057_Observatorio_Experiencia_Proceso_Diario/BTEQs\n",
      "./Input_Analitico/Personas/00_CRM_Diario/062_Panel_Experiencia/BTEQS\n",
      "./Input_Analitico/Personas/00_CRM_Diario/038_Input_CRM_Control_M_FTP/BTEQs\n",
      "./Input_Analitico/Personas/00_CRM_Diario/041_Input_CRM_Actualizar_Tabla_Madre_de_Inversiones/BTEQs\n",
      "./Input_Analitico/Personas/00_CRM_Diario/002_Input_CRM_Sim_web_CCA/BTEQs\n",
      "./Input_Analitico/Personas/00_CRM_Diario/051_Input_CRM_Medicion_Gatillos/BTEQs\n",
      "./Input_Analitico/Personas/00_CRM_Diario/001_Input_CRM_Leakage_Planes/BTEQs\n",
      "./Input_Analitico/Personas/00_CRM_Diario/031_Input_CRM_Journey_Diario/BTEQs\n",
      "./Input_Analitico/Personas/00_CRM_Diario/022_Input_CRM_Journey_Consumo/BTEQs\n",
      "./Input_Analitico/Personas/00_CRM_Diario/037_Input_CRM_Correo_Optimizador/BTEQ\n",
      "./Input_Analitico/Personas/00_CRM_Diario/034_Input_CRM_Post_Priorizador/BTEQs\n",
      "./Input_Analitico/Personas/00_CRM_Diario/036_Input_CRM_Control_Calidad/BTEQs\n",
      "./Input_Analitico/Personas/00_CRM_Diario/054_Masivo_Diario_Refresco_IN_DBC/BTEQs\n",
      "./Input_Analitico/Personas/00_CRM_Diario/000_STG_Historia/BTEQs\n",
      "./Input_Analitico/Personas/00_CRM_Diario/033_Input_CRM_Priorizador/BTEQs\n",
      "./Input_Analitico/Personas/00_CRM_Diario/039_Input_CRM_Borrado_Tempusu/BTEQs\n",
      "./Input_Analitico/Personas/40_Procesos_mensuales/401_Segmentacion_INR/BTEQs\n",
      "./Input_Analitico/Personas/40_Procesos_mensuales/420_Contingencia_Personas/BTEQs\n",
      "./Input_Analitico/Personas/40_Procesos_mensuales/416_Modelo_Prospectos/BTEQs_3\n",
      "./Input_Analitico/Personas/40_Procesos_mensuales/416_Modelo_Prospectos/BTEQs_2\n",
      "./Input_Analitico/Personas/40_Procesos_mensuales/416_Modelo_Prospectos/BTEQs_1\n",
      "./Input_Analitico/Personas/40_Procesos_mensuales/416_Modelo_Prospectos/BTEQs_2a\n",
      "./Input_Analitico/Personas/40_Procesos_mensuales/416_Modelo_Prospectos/BTEQs_1a\n",
      "./Input_Analitico/Personas/40_Procesos_mensuales/403_Canalidad_Segmentacion_Canales/BTEQs\n",
      "./Input_Analitico/Personas/40_Procesos_mensuales/400_Principalidad_Bancos/BTEQs\n",
      "./Input_Analitico/Personas/40_Procesos_mensuales/414_Modelo_Consumo_Mensual/BTEQs_Ini\n",
      "./Input_Analitico/Personas/40_Procesos_mensuales/414_Modelo_Consumo_Mensual/BTEQs_Fin\n",
      "./Input_Analitico/Personas/40_Procesos_mensuales/402_Historifica_Tabla_Riesgo1/BTEQs\n",
      "./Input_Analitico/Personas/40_Procesos_mensuales/415_Modelo_Renta_Clientes/BTEQs_2\n",
      "./Input_Analitico/Personas/40_Procesos_mensuales/415_Modelo_Renta_Clientes/BTEQs_1\n",
      "./Input_Analitico/Personas/40_Procesos_mensuales/415_Modelo_Renta_Clientes/BTEQs_1a\n",
      "./Input_Analitico/Personas/40_Procesos_mensuales/413_Carga_Trabajo_Ejecutivo_Cliente/BTEQs\n",
      "./Input_Analitico/Personas/10_CRM_Mensual/110_Input_CRM_Mensual_Calculo_Catalogo_Modelos/BTEQs\n",
      "./Input_Analitico/Personas/50_Procesos_Semanales/501_Input_CRM_Eventos_Semanales/BTEQs\n",
      "./Input_Analitico/Personas/30_Reportes/303_Reporte_Revision_DMI/BTEQs\n",
      "./Input_Analitico/Personas/30_Reportes/315_Asignacion_InputCRM_canal/BTEQs\n",
      "./Input_Analitico/Personas/30_Reportes/312_Reporte_Mensual_Informe_Cruce_Productos/BTEQs\n",
      "./Input_Analitico/Personas/30_Reportes/313_Vision_Estrategica_Inversiones/BTEQs\n",
      "./Input_Analitico/Personas/30_Reportes/311_Reporte_Mensual_Informe_Consumo_Final/BTEQ\n",
      "./Input_Analitico/Personas/30_Reportes/314_Vista_360_CRM/BTEQs\n",
      "./Input_Analitico/Personas/60_Procesos_Mensuales_Manuales/606_Modelos_Priorizacion_Nova/BTEQs\n",
      "./Input_Analitico/Personas/60_Procesos_Mensuales_Manuales/605_Priorizacion_Seguro_EGRA/BTEQs\n",
      "./Input_Analitico/Personas/60_Procesos_Mensuales_Manuales/602_Priorizacion_Consumo/BTEQs\n",
      "./Input_Analitico/Personas/60_Procesos_Mensuales_Manuales/604_Priorizacion_Seguros_CLC/BTEQs\n",
      "./Input_Analitico/Personas/60_Procesos_Mensuales_Manuales/603_Priorizacion_Planes/BTEQs\n"
     ]
    }
   ],
   "source": [
    "def fast_scandir(dirname):\n",
    "    subfolders= [f.path for f in os.scandir(dirname) if f.is_dir()]\n",
    "    for dirname in list(subfolders):\n",
    "        subfolders.extend(fast_scandir(dirname))\n",
    "    return subfolders\n",
    "\n",
    "list_all_subfolders = fast_scandir('.')\n",
    "#print(list_all_subfolders)\n",
    "\n",
    "for folder_dir in list_all_subfolders:\n",
    "    \n",
    "    result_folder = folder_contains_name(folder_dir)\n",
    "    if result_folder is not None:\n",
    "        print(folder_dir)\n",
    "            \n",
    "    '''for filename in os.listdir(folder_dir):\n",
    "        if filename.endswith('.sql') or filename.endswith('.txt'): \n",
    "            print(filename)\n",
    "            print(folder_dir + '/' + filename)'''\n",
    "        \n",
    "    "
   ]
  },
  {
   "cell_type": "code",
   "execution_count": null,
   "metadata": {},
   "outputs": [],
   "source": []
  }
 ],
 "metadata": {
  "kernelspec": {
   "display_name": "Python 3",
   "language": "python",
   "name": "python3"
  },
  "language_info": {
   "codemirror_mode": {
    "name": "ipython",
    "version": 3
   },
   "file_extension": ".py",
   "mimetype": "text/x-python",
   "name": "python",
   "nbconvert_exporter": "python",
   "pygments_lexer": "ipython3",
   "version": "3.7.3"
  }
 },
 "nbformat": 4,
 "nbformat_minor": 2
}
