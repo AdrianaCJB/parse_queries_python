{
 "cells": [
  {
   "cell_type": "code",
   "execution_count": 2,
   "metadata": {},
   "outputs": [],
   "source": [
    "import giraffez\n",
    "import pandas as pd\n",
    "import datetime\n",
    "\n",
    "td_config = {\n",
    "    \"username\": \"exajibl\",\n",
    "    \"password\": \"xips2591\",\n",
    "    \"host\": \"dataware.bci.cl\"}"
   ]
  },
  {
   "cell_type": "code",
   "execution_count": 14,
   "metadata": {},
   "outputs": [
    {
     "name": "stdout",
     "output_type": "stream",
     "text": [
      "TIPO_ARCHIVO      8387\n",
      "ARCHIVO           8387\n",
      "NUMERO_PASO       8387\n",
      "SENTENCIA_DML     8387\n",
      "ESQUEMA_OUTPUT    8387\n",
      "TABLA_OUTPUT      8387\n",
      "ESQUEMA_INPUT     8387\n",
      "TABLA_INPUT       8387\n",
      "dtype: int64\n",
      "TIPO_ARCHIVO      1180\n",
      "ARCHIVO           1180\n",
      "NUMERO_PASO       1180\n",
      "SENTENCIA_DML     1180\n",
      "ESQUEMA_OUTPUT    1180\n",
      "TABLA_OUTPUT      1180\n",
      "ESQUEMA_INPUT     1180\n",
      "TABLA_INPUT       1180\n",
      "dtype: int64\n",
      "TIPO_ARCHIVO      5767\n",
      "ARCHIVO           5767\n",
      "SENTENCIA_DML     5767\n",
      "ESQUEMA_OUTPUT    5767\n",
      "TABLA_OUTPUT      5767\n",
      "ESQUEMA_INPUT     5767\n",
      "TABLA_INPUT       5767\n",
      "dtype: int64\n",
      "TIPO_ARCHIVO     4598\n",
      "ARCHIVO          4598\n",
      "TIPO_DE_TABLA    4598\n",
      "ESQUEMA          4598\n",
      "TABLA            4598\n",
      "index               0\n",
      "dtype: int64\n"
     ]
    }
   ],
   "source": [
    "# CARGANDO EL DATAFRAME \n",
    "df_bteq    = pd.read_csv(\"LAC_Levantamiento_Bteq.csv\",  sep='|' ) \n",
    "df_sp      = pd.read_csv(\"LAC_Levantamiento_StoredProcedures.csv\",  sep='|' ) \n",
    "df_vistas  = pd.read_csv(\"LAC_Levantamiento_Vistas.csv\",  sep='|' ) \n",
    "df_resumen = pd.read_csv(\"LAC_Levantamiento_Resumen.csv\",  sep='|' ) \n",
    "\n",
    "df_bteq['NUMERO_PASO'] = df_bteq['NUMERO_PASO'].astype('str')\n",
    "df_sp['NUMERO_PASO']   = df_sp['NUMERO_PASO'].astype('str')\n",
    "#df = df.head(5)  \n",
    "#df.count()\n",
    "print(df_bteq.count())\n",
    "print(df_sp.count()) \n",
    "print(df_vistas.count())\n",
    "print(df_resumen.count())"
   ]
  },
  {
   "cell_type": "code",
   "execution_count": 10,
   "metadata": {},
   "outputs": [],
   "source": [
    "drop_sql_bteq    = \"DROP TABLE EDW_TEMPUSU.LAC_LEVANTAMIENTO_TABLAS_BTEQ\"\n",
    "drop_sql_sp      = \"DROP TABLE EDW_TEMPUSU.LAC_LEVANTAMIENTO_TABLAS_SP\"\n",
    "drop_sql_vistas  = \"DROP TABLE EDW_TEMPUSU.LAC_LEVANTAMIENTO_TABLAS_VISTAS\"\n",
    "drop_sql_resumen = \"DROP TABLE EDW_TEMPUSU.LAC_LEVANTAMIENTO_TABLAS_RESUMEN\"\n",
    "\n",
    "create_sql_bteq = \"\"\"CREATE MULTISET TABLE EDW_TEMPUSU.LAC_LEVANTAMIENTO_TABLAS_BTEQ\n",
    "    (\n",
    "      TIPO_ARCHIVO VARCHAR(20) ,\n",
    "      ARCHIVO VARCHAR(40),\n",
    "      NUMERO_PASO VARCHAR(3),      \n",
    "      SENTENCIA_DML VARCHAR(15) ,\n",
    "      ESQUEMA_OUTPUT VARCHAR(30) ,\n",
    "      TABLA_OUTPUT VARCHAR(30) ,\n",
    "      ESQUEMA_INPUT VARCHAR(50) ,\n",
    "      TABLA_INPUT VARCHAR(50)      \n",
    "      ) ;\"\"\"\n",
    "\n",
    "create_sql_sp = \"\"\"CREATE MULTISET TABLE EDW_TEMPUSU.LAC_LEVANTAMIENTO_TABLAS_SP\n",
    "    (\n",
    "      TIPO_ARCHIVO VARCHAR(20) ,\n",
    "      ARCHIVO VARCHAR(40),\n",
    "      NUMERO_PASO VARCHAR(3),      \n",
    "      SENTENCIA_DML VARCHAR(15) ,\n",
    "      ESQUEMA_OUTPUT VARCHAR(30) ,\n",
    "      TABLA_OUTPUT VARCHAR(30) ,\n",
    "      ESQUEMA_INPUT VARCHAR(50) ,\n",
    "      TABLA_INPUT VARCHAR(50)      \n",
    "      ) ;\"\"\"\n",
    "\n",
    "create_sql_vistas = \"\"\"CREATE MULTISET TABLE EDW_TEMPUSU.LAC_LEVANTAMIENTO_TABLAS_VISTAS\n",
    "    (\n",
    "      TIPO_ARCHIVO VARCHAR(20) ,\n",
    "      ARCHIVO VARCHAR(40),     \n",
    "      SENTENCIA_DML VARCHAR(15) ,\n",
    "      ESQUEMA_OUTPUT VARCHAR(30) ,\n",
    "      TABLA_OUTPUT VARCHAR(30) ,\n",
    "      ESQUEMA_INPUT VARCHAR(50) ,\n",
    "      TABLA_INPUT VARCHAR(50)      \n",
    "      ) ;\"\"\"\n",
    "\n",
    "create_sql_resumen = \"\"\"CREATE MULTISET TABLE EDW_TEMPUSU.LAC_LEVANTAMIENTO_TABLAS_RESUMEN\n",
    "    (\n",
    "      TIPO_ARCHIVO VARCHAR(20),\n",
    "      ARCHIVO VARCHAR(40),\n",
    "      TIPO_DE_TABLA VARCHAR(10),\n",
    "      ESQUEMA VARCHAR(30),\n",
    "      TABLA VARCHAR(50)\n",
    "      ) ;\"\"\"\n",
    "\n",
    "with giraffez.Cmd(**td_config) as cmd:\n",
    "    if cmd.exists(\"EDW_TEMPUSU.LAC_LEVANTAMIENTO_TABLAS_BTEQ\"):\n",
    "        cmd.execute(drop_sql_bteq)\n",
    "    if cmd.exists(\"EDW_TEMPUSU.LAC_LEVANTAMIENTO_TABLAS_SP\"):\n",
    "        cmd.execute(drop_sql_sp)\n",
    "    if cmd.exists(\"EDW_TEMPUSU.LAC_LEVANTAMIENTO_TABLAS_VISTAS\"):\n",
    "        cmd.execute(drop_sql_vistas)\n",
    "    if cmd.exists(\"EDW_TEMPUSU.LAC_LEVANTAMIENTO_TABLAS_RESUMEN\"):\n",
    "        cmd.execute(drop_sql_resumen)\n",
    "        \n",
    "        \n",
    "    cmd.execute(create_sql_bteq)\n",
    "    cmd.execute(create_sql_sp)\n",
    "    cmd.execute(create_sql_vistas)\n",
    "    cmd.execute(create_sql_resumen)\n",
    "#FIN CREACION"
   ]
  },
  {
   "cell_type": "code",
   "execution_count": 15,
   "metadata": {},
   "outputs": [
    {
     "name": "stdout",
     "output_type": "stream",
     "text": [
      "2020-02-14 13:45:51.775276\n",
      "2020-02-14 13:51:15.367744\n"
     ]
    }
   ],
   "source": [
    "## PRIMERA OPCION\n",
    "now = datetime.datetime.now()\n",
    "print (now)\n",
    "\n",
    "with giraffez.BulkLoad(\"EDW_TEMPUSU.LAC_LEVANTAMIENTO_TABLAS_BTEQ\", **td_config) as load:\n",
    "    load.cleanup()\n",
    "    load.columns = df_bteq.columns.tolist()\n",
    "    for row in df_bteq.values.tolist(): \n",
    "        load.put([row[0], row[1], row[2], row[3], row[4], row[5], row[6], row[7]])\n",
    "        \n",
    "with giraffez.BulkLoad(\"EDW_TEMPUSU.LAC_LEVANTAMIENTO_TABLAS_SP\", **td_config) as load:\n",
    "    load.cleanup()\n",
    "    load.columns = df_sp.columns.tolist()\n",
    "    for row in df_sp.values.tolist(): \n",
    "        load.put([row[0], row[1], row[2], row[3], row[4], row[5], row[6], row[7]])        \n",
    "        \n",
    "with giraffez.BulkLoad(\"EDW_TEMPUSU.LAC_LEVANTAMIENTO_TABLAS_VISTAS\", **td_config) as load:\n",
    "    load.cleanup()\n",
    "    load.columns = df_vistas.columns.tolist()\n",
    "    for row in df_vistas.values.tolist(): \n",
    "        load.put([row[0], row[1], row[2], row[3], row[4], row[5], row[6] ])    \n",
    "        \n",
    "with giraffez.BulkLoad(\"EDW_TEMPUSU.LAC_LEVANTAMIENTO_TABLAS_RESUMEN\", **td_config) as load:\n",
    "    load.cleanup()\n",
    "    load.columns = df_resumen.columns.tolist()\n",
    "    for row in df_resumen.values.tolist(): \n",
    "        load.put([row[0], row[1], row[2], row[3], row[4]])            \n",
    "        \n",
    "\n",
    "now = datetime.datetime.now()\n",
    "print (now)"
   ]
  },
  {
   "cell_type": "code",
   "execution_count": null,
   "metadata": {},
   "outputs": [],
   "source": []
  },
  {
   "cell_type": "code",
   "execution_count": null,
   "metadata": {},
   "outputs": [],
   "source": []
  },
  {
   "cell_type": "code",
   "execution_count": null,
   "metadata": {},
   "outputs": [],
   "source": [
    "## SEGUNDA OPCION\n",
    "with giraffez.BulkLoad(\"EDW_TEMPUSU.ACJB\", **td_config) as load:\n",
    "    load.cleanup()\n",
    "    load.from_file(filename = \"LAC_Levantamiento_Vistas.txt\", delimiter = \";\")"
   ]
  },
  {
   "cell_type": "code",
   "execution_count": null,
   "metadata": {},
   "outputs": [],
   "source": [
    "with giraffez.BulkLoad(table='EDW_TEMPUSU.ACJB') as load:\n",
    "    load.from_file('LAC_Levantamiento_Vistas.txt', table='EDW_TEMPUSU.ACJB', delimiter=\";\", null='')"
   ]
  }
 ],
 "metadata": {
  "kernelspec": {
   "display_name": "Python 3",
   "language": "python",
   "name": "python3"
  },
  "language_info": {
   "codemirror_mode": {
    "name": "ipython",
    "version": 3
   },
   "file_extension": ".py",
   "mimetype": "text/x-python",
   "name": "python",
   "nbconvert_exporter": "python",
   "pygments_lexer": "ipython3",
   "version": "3.7.3"
  }
 },
 "nbformat": 4,
 "nbformat_minor": 2
}
